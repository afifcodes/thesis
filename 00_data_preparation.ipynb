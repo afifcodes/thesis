{
 "cells": [
  {
   "cell_type": "code",
   "execution_count": 5,
   "metadata": {},
   "outputs": [],
   "source": [
    "import pandas as pd\n",
    "import os\n",
    "import shutil"
   ]
  },
  {
   "cell_type": "code",
   "execution_count": 6,
   "metadata": {},
   "outputs": [],
   "source": [
    "k = 5\n",
    "for i in range(1, k+1):\n",
    "    os.mkdir(f\"dataset/Fold{i}\")"
   ]
  },
  {
   "cell_type": "code",
   "execution_count": 7,
   "metadata": {},
   "outputs": [],
   "source": [
    "k = 5\n",
    "for i in range(1, k+1):\n",
    "    path = f\"dataset/Fold{i}\"\n",
    "    os.mkdir(f\"{path}/test\")\n",
    "    os.mkdir(f\"{path}/test_mask\")\n",
    "    os.mkdir(f\"{path}/train\")\n",
    "    os.mkdir(f\"{path}/train_mask\")\n",
    "    os.mkdir(f\"{path}/validation\")\n",
    "    os.mkdir(f\"{path}/validation_mask\")"
   ]
  },
  {
   "cell_type": "code",
   "execution_count": 8,
   "metadata": {},
   "outputs": [],
   "source": [
    "k = 5\n",
    "for i in range(1, k+1):\n",
    "    path = f'dataset/Fold{i}'\n",
    "    for dir in ['test', 'test_mask', 'train', 'train_mask', 'validation', 'validation_mask']:\n",
    "        os.mkdir(f\"{path}/{dir}/covid-19\")\n",
    "        os.mkdir(f\"{path}/{dir}/non-covid\")\n",
    "        os.mkdir(f\"{path}/{dir}/normal\")"
   ]
  },
  {
   "cell_type": "code",
   "execution_count": 9,
   "metadata": {},
   "outputs": [],
   "source": [
    "xls = pd.ExcelFile('dataset/Split_Data_COVID_QU_Paths.xlsx')"
   ]
  },
  {
   "cell_type": "code",
   "execution_count": 11,
   "metadata": {},
   "outputs": [],
   "source": [
    "for i in range(1, k+1):\n",
    "    train = pd.read_excel(xls, f'fold_{i}_train')\n",
    "    val = pd.read_excel(xls, f'fold_{i}_val')\n",
    "    test = pd.read_excel(xls, 'test')\n",
    "\n",
    "    for image_path, mask_path in zip(train['images_path'], train['masks_path']):\n",
    "        image_dir_arr = image_path.split('/')\n",
    "        class_name = image_dir_arr[1].lower()\n",
    "        image_file_name = f\"{image_dir_arr[-1].split('.')[0]}.bmp\"\n",
    "        image = f\"dataset/{image_dir_arr[1]}/images/{image_file_name}\"\n",
    "\n",
    "        mask_dir_arr = mask_path.split('/')\n",
    "        mask_file_name = f\"{mask_dir_arr[-1].split('.')[0]}.bmp\"\n",
    "        mask = f\"dataset/{mask_dir_arr[1]}/masks/{mask_file_name}\"\n",
    "\n",
    "        shutil.copyfile(image, f'dataset/Fold{i}/train/{class_name}/{image_file_name}')\n",
    "        shutil.copyfile(mask, f'dataset/Fold{i}/train_mask/{class_name}/{mask_file_name}')\n",
    "\n",
    "    for image_path, mask_path in zip(val['images_path'], val['masks_path']):\n",
    "        image_dir_arr = image_path.split('/')\n",
    "        class_name = image_dir_arr[1].lower()\n",
    "        image_file_name = f\"{image_dir_arr[-1].split('.')[0]}.bmp\"\n",
    "        image = f\"dataset/{image_dir_arr[1]}/images/{image_file_name}\"\n",
    "\n",
    "        mask_dir_arr = mask_path.split('/')\n",
    "        mask_file_name = f\"{mask_dir_arr[-1].split('.')[0]}.bmp\"\n",
    "        mask = f\"dataset/{mask_dir_arr[1]}/masks/{mask_file_name}\"\n",
    "\n",
    "        shutil.copyfile(image, f'dataset/Fold{i}/validation/{class_name}/{image_file_name}')\n",
    "        shutil.copyfile(mask, f'dataset/Fold{i}/validation_mask/{class_name}/{mask_file_name}')\n",
    "\n",
    "    for image_path, mask_path in zip(test['images_path'], test['masks_path']):\n",
    "        image_dir_arr = image_path.split('/')\n",
    "        class_name = image_dir_arr[1].lower()\n",
    "        image_file_name = f\"{image_dir_arr[-1].split('.')[0]}.bmp\"\n",
    "        image = f\"dataset/{image_dir_arr[1]}/images/{image_file_name}\"\n",
    "\n",
    "        mask_dir_arr = mask_path.split('/')\n",
    "        mask_file_name = f\"{mask_dir_arr[-1].split('.')[0]}.bmp\"\n",
    "        mask = f\"dataset/{mask_dir_arr[1]}/masks/{mask_file_name}\"\n",
    "\n",
    "        shutil.copyfile(image, f'dataset/Fold{i}/test/{class_name}/{image_file_name}')\n",
    "        shutil.copyfile(mask, f'dataset/Fold{i}/test_mask/{class_name}/{mask_file_name}')"
   ]
  }
 ],
 "metadata": {
  "kernelspec": {
   "display_name": "Python 3",
   "language": "python",
   "name": "python3"
  },
  "language_info": {
   "codemirror_mode": {
    "name": "ipython",
    "version": 3
   },
   "file_extension": ".py",
   "mimetype": "text/x-python",
   "name": "python",
   "nbconvert_exporter": "python",
   "pygments_lexer": "ipython3",
   "version": "3.10.6"
  },
  "orig_nbformat": 4,
  "vscode": {
   "interpreter": {
    "hash": "916dbcbb3f70747c44a77c7bcd40155683ae19c65e1c03b4aa3499c5328201f1"
   }
  }
 },
 "nbformat": 4,
 "nbformat_minor": 2
}
