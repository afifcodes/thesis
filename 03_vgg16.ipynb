{
 "cells": [
  {
   "attachments": {},
   "cell_type": "markdown",
   "metadata": {},
   "source": [
    "# Tensorflow VGG16"
   ]
  },
  {
   "cell_type": "code",
   "execution_count": 1,
   "metadata": {},
   "outputs": [],
   "source": [
    "import os\n",
    "os.environ['TF_CPP_MIN_LOG_LEVEL'] = '3'\n",
    "import tensorflow as tf\n",
    "from typing import List\n"
   ]
  },
  {
   "cell_type": "code",
   "execution_count": null,
   "metadata": {},
   "outputs": [],
   "source": [
    "original_vgg16 = tf.keras.applications.vgg16.VGG16()\n",
    "original_vgg16.summary()"
   ]
  },
  {
   "cell_type": "code",
   "execution_count": 5,
   "metadata": {},
   "outputs": [],
   "source": [
    "def VGG16(name: str, num_classes: int, include_top: bool = True):\n",
    "    def stack_fn(tensor):\n",
    "        # Block 1\n",
    "        out = tf.keras.layers.Conv2D(name=\"Block1_Conv1\", filters=64, kernel_size=(\n",
    "            3, 3), activation='relu', padding='SAME')(tensor)\n",
    "        out = tf.keras.layers.Conv2D(name=\"Block1_Conv2\", filters=64, kernel_size=(\n",
    "            3, 3), activation='relu', padding='SAME')(out)\n",
    "        out = tf.keras.layers.MaxPool2D(\n",
    "            name=\"Block1_MaxPool\", pool_size=(2, 2), strides=(2, 2), padding=\"VALID\")(out)\n",
    "\n",
    "        # Block 2\n",
    "        out = tf.keras.layers.Conv2D(name=\"Block2_Conv1\", filters=128, kernel_size=(\n",
    "            3, 3), activation='relu', padding='SAME')(out)\n",
    "        out = tf.keras.layers.Conv2D(name=\"Block2_Conv2\", filters=128, kernel_size=(\n",
    "            3, 3), activation='relu', padding='SAME')(out)\n",
    "        out = tf.keras.layers.MaxPool2D(\n",
    "            name=\"Block2_MaxPool\", pool_size=(2, 2), strides=(2, 2), padding=\"VALID\")(out)\n",
    "        \n",
    "        # Block 3\n",
    "        out = tf.keras.layers.Conv2D(name=\"Block3_Conv1\", filters=256, kernel_size=(\n",
    "            3, 3), activation='relu', padding='SAME')(out)\n",
    "        out = tf.keras.layers.Conv2D(name=\"Block3_Conv2\", filters=256, kernel_size=(\n",
    "            3, 3), activation='relu', padding='SAME')(out)\n",
    "        out = tf.keras.layers.Conv2D(name=\"Block3_Conv3\", filters=256, kernel_size=(\n",
    "            3, 3), activation='relu', padding='SAME')(out)\n",
    "        out = tf.keras.layers.MaxPool2D(\n",
    "            name=\"Block3_MaxPool\", pool_size=(2, 2), strides=(2, 2), padding=\"VALID\")(out)\n",
    "        \n",
    "        # Block 4\n",
    "        out = tf.keras.layers.Conv2D(name=\"Block4_Conv1\", filters=512, kernel_size=(\n",
    "            3, 3), activation='relu', padding='SAME')(out)\n",
    "        out = tf.keras.layers.Conv2D(name=\"Block4_Conv2\", filters=512, kernel_size=(\n",
    "            3, 3), activation='relu', padding='SAME')(out)\n",
    "        out = tf.keras.layers.Conv2D(name=\"Block4_Conv3\", filters=512, kernel_size=(\n",
    "            3, 3), activation='relu', padding='SAME')(out)\n",
    "        out = tf.keras.layers.MaxPool2D(\n",
    "            name=\"Block4_MaxPool\", pool_size=(2, 2), strides=(2, 2), padding=\"VALID\")(out)\n",
    "        \n",
    "        # Block 5\n",
    "        out = tf.keras.layers.Conv2D(name=\"Block5_Conv1\", filters=512, kernel_size=(\n",
    "            3, 3), activation='relu', padding='SAME')(out)\n",
    "        out = tf.keras.layers.Conv2D(name=\"Block5_Conv2\", filters=512, kernel_size=(\n",
    "            3, 3), activation='relu', padding='SAME')(out)\n",
    "        out = tf.keras.layers.Conv2D(name=\"Block5_Conv3\", filters=512, kernel_size=(\n",
    "            3, 3), activation='relu', padding='SAME')(out)\n",
    "        out = tf.keras.layers.MaxPool2D(\n",
    "            name=\"Block5_MaxPool\", pool_size=(2, 2), strides=(2, 2), padding=\"VALID\")(out)\n",
    "        \n",
    "        if include_top:\n",
    "            # FC\n",
    "            out = tf.keras.layers.Flatten(name=\"Flatten\")(out)\n",
    "            out = tf.keras.layers.Dense(name=\"FC1\", units=4096)(out)\n",
    "            out = tf.keras.layers.Dense(name=\"FC2\", units=4096)(out)\n",
    "            out = tf.keras.layers.Dense(name=\"FC3\", units=num_classes)(out)\n",
    "        \n",
    "        return out\n",
    "\n",
    "    x = tf.keras.layers.Input(name=\"Head_Input\", shape=(224, 224, 3))\n",
    "    model = tf.keras.models.Model(name=name, inputs=[x], outputs=stack_fn(x))\n",
    "    return model\n"
   ]
  },
  {
   "cell_type": "code",
   "execution_count": 6,
   "metadata": {},
   "outputs": [
    {
     "name": "stdout",
     "output_type": "stream",
     "text": [
      "Model: \"VGG16\"\n",
      "_________________________________________________________________\n",
      " Layer (type)                Output Shape              Param #   \n",
      "=================================================================\n",
      " Head_Input (InputLayer)     [(None, 224, 224, 3)]     0         \n",
      "                                                                 \n",
      " Block1_Conv1 (Conv2D)       (None, 224, 224, 64)      1792      \n",
      "                                                                 \n",
      " Block1_Conv2 (Conv2D)       (None, 224, 224, 64)      36928     \n",
      "                                                                 \n",
      " Block1_MaxPool (MaxPooling2  (None, 112, 112, 64)     0         \n",
      " D)                                                              \n",
      "                                                                 \n",
      " Block2_Conv1 (Conv2D)       (None, 112, 112, 128)     73856     \n",
      "                                                                 \n",
      " Block2_Conv2 (Conv2D)       (None, 112, 112, 128)     147584    \n",
      "                                                                 \n",
      " Block2_MaxPool (MaxPooling2  (None, 56, 56, 128)      0         \n",
      " D)                                                              \n",
      "                                                                 \n",
      " Block3_Conv1 (Conv2D)       (None, 56, 56, 256)       295168    \n",
      "                                                                 \n",
      " Block3_Conv2 (Conv2D)       (None, 56, 56, 256)       590080    \n",
      "                                                                 \n",
      " Block3_Conv3 (Conv2D)       (None, 56, 56, 256)       590080    \n",
      "                                                                 \n",
      " Block3_MaxPool (MaxPooling2  (None, 28, 28, 256)      0         \n",
      " D)                                                              \n",
      "                                                                 \n",
      " Block4_Conv1 (Conv2D)       (None, 28, 28, 512)       1180160   \n",
      "                                                                 \n",
      " Block4_Conv2 (Conv2D)       (None, 28, 28, 512)       2359808   \n",
      "                                                                 \n",
      " Block4_Conv3 (Conv2D)       (None, 28, 28, 512)       2359808   \n",
      "                                                                 \n",
      " Block4_MaxPool (MaxPooling2  (None, 14, 14, 512)      0         \n",
      " D)                                                              \n",
      "                                                                 \n",
      " Block5_Conv1 (Conv2D)       (None, 14, 14, 512)       2359808   \n",
      "                                                                 \n",
      " Block5_Conv2 (Conv2D)       (None, 14, 14, 512)       2359808   \n",
      "                                                                 \n",
      " Block5_Conv3 (Conv2D)       (None, 14, 14, 512)       2359808   \n",
      "                                                                 \n",
      " Block5_MaxPool (MaxPooling2  (None, 7, 7, 512)        0         \n",
      " D)                                                              \n",
      "                                                                 \n",
      "=================================================================\n",
      "Total params: 14,714,688\n",
      "Trainable params: 14,714,688\n",
      "Non-trainable params: 0\n",
      "_________________________________________________________________\n"
     ]
    }
   ],
   "source": [
    "model = VGG16(name=\"VGG16\", num_classes=2, include_top=False)\n",
    "model.summary()"
   ]
  }
 ],
 "metadata": {
  "kernelspec": {
   "display_name": "Python 3",
   "language": "python",
   "name": "python3"
  },
  "language_info": {
   "codemirror_mode": {
    "name": "ipython",
    "version": 3
   },
   "file_extension": ".py",
   "mimetype": "text/x-python",
   "name": "python",
   "nbconvert_exporter": "python",
   "pygments_lexer": "ipython3",
   "version": "3.10.6 (main, Nov 14 2022, 16:10:14) [GCC 11.3.0]"
  },
  "orig_nbformat": 4,
  "vscode": {
   "interpreter": {
    "hash": "916dbcbb3f70747c44a77c7bcd40155683ae19c65e1c03b4aa3499c5328201f1"
   }
  }
 },
 "nbformat": 4,
 "nbformat_minor": 2
}
