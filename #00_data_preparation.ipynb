{
 "cells": [
  {
   "cell_type": "code",
   "execution_count": 28,
   "metadata": {},
   "outputs": [],
   "source": [
    "import pandas as pd\n",
    "import os\n",
    "import shutil"
   ]
  },
  {
   "cell_type": "code",
   "execution_count": 33,
   "metadata": {},
   "outputs": [],
   "source": [
    "k = 5\n",
    "for i in range(1, k+1):\n",
    "    path = f'dataset/Fold{i}'\n",
    "    os.mkdir(path+'/test')\n",
    "    os.mkdir(path+'/test_mask')\n",
    "    os.mkdir(path+'/train')\n",
    "    os.mkdir(path+'/train_mask')\n",
    "    os.mkdir(path+'/validation')\n",
    "    os.mkdir(path+'/validation_mask')"
   ]
  },
  {
   "cell_type": "code",
   "execution_count": 34,
   "metadata": {},
   "outputs": [],
   "source": [
    "xls = pd.ExcelFile('dataset/Split_Data_COVID_QU_Paths.xlsx')"
   ]
  },
  {
   "cell_type": "code",
   "execution_count": 35,
   "metadata": {},
   "outputs": [],
   "source": [
    "for i in range(1, k+1):\n",
    "    train = pd.read_excel(xls, f'fold_{i}_train')\n",
    "    val = pd.read_excel(xls, f'fold_{i}_val')\n",
    "    test = pd.read_excel(xls, 'test')\n",
    "\n",
    "    for image_path, mask_path in zip(train['images_path'], train['masks_path']):\n",
    "        image_dir_arr = image_path.split('/')\n",
    "        image_file_name = f\"{image_dir_arr[-1].split('.')[0]}.bmp\"\n",
    "        image = f\"dataset/{image_dir_arr[1]}/images/{image_file_name}\"\n",
    "\n",
    "        mask_dir_arr = mask_path.split('/')\n",
    "        mask_file_name = f\"{mask_dir_arr[-1].split('.')[0]}.bmp\"\n",
    "        mask = f\"dataset/{mask_dir_arr[1]}/masks/{mask_file_name}\"\n",
    "\n",
    "        shutil.copyfile(image, f'dataset/Fold{i}/train/{image_file_name}')\n",
    "        shutil.copyfile(mask, f'dataset/Fold{i}/train_mask/{mask_file_name}')\n",
    "\n",
    "    for image_path, mask_path in zip(val['images_path'], val['masks_path']):\n",
    "        image_dir_arr = image_path.split('/')\n",
    "        image_file_name = f\"{image_dir_arr[-1].split('.')[0]}.bmp\"\n",
    "        image = f\"dataset/{image_dir_arr[1]}/images/{image_file_name}\"\n",
    "\n",
    "        mask_dir_arr = mask_path.split('/')\n",
    "        mask_file_name = f\"{mask_dir_arr[-1].split('.')[0]}.bmp\"\n",
    "        mask = f\"dataset/{mask_dir_arr[1]}/masks/{mask_file_name}\"\n",
    "\n",
    "        shutil.copyfile(image, f'dataset/Fold{i}/validation/{image_file_name}')\n",
    "        shutil.copyfile(mask, f'dataset/Fold{i}/validation_mask/{mask_file_name}')\n",
    "\n",
    "    for image_path, mask_path in zip(test['images_path'], test['masks_path']):\n",
    "        image_dir_arr = image_path.split('/')\n",
    "        image_file_name = f\"{image_dir_arr[-1].split('.')[0]}.bmp\"\n",
    "        image = f\"dataset/{image_dir_arr[1]}/images/{image_file_name}\"\n",
    "\n",
    "        mask_dir_arr = mask_path.split('/')\n",
    "        mask_file_name = f\"{mask_dir_arr[-1].split('.')[0]}.bmp\"\n",
    "        mask = f\"dataset/{mask_dir_arr[1]}/masks/{mask_file_name}\"\n",
    "\n",
    "        shutil.copyfile(image, f'dataset/Fold{i}/test/{image_file_name}')\n",
    "        shutil.copyfile(mask, f'dataset/Fold{i}/test_mask/{mask_file_name}')"
   ]
  }
 ],
 "metadata": {
  "kernelspec": {
   "display_name": "Python 3",
   "language": "python",
   "name": "python3"
  },
  "language_info": {
   "codemirror_mode": {
    "name": "ipython",
    "version": 3
   },
   "file_extension": ".py",
   "mimetype": "text/x-python",
   "name": "python",
   "nbconvert_exporter": "python",
   "pygments_lexer": "ipython3",
   "version": "3.10.6"
  },
  "orig_nbformat": 4,
  "vscode": {
   "interpreter": {
    "hash": "916dbcbb3f70747c44a77c7bcd40155683ae19c65e1c03b4aa3499c5328201f1"
   }
  }
 },
 "nbformat": 4,
 "nbformat_minor": 2
}
