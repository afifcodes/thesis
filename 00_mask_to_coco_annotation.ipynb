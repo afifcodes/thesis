{
 "cells": [
  {
   "cell_type": "code",
   "execution_count": 10,
   "metadata": {},
   "outputs": [],
   "source": [
    "import os, json, cv2, numpy as np\n",
    "from matplotlib import pyplot as plt\n",
    "from skimage import measure"
   ]
  },
  {
   "cell_type": "code",
   "execution_count": 11,
   "metadata": {},
   "outputs": [],
   "source": [
    "class Annotator:\n",
    "    def __init__(self, categories, super_category) -> None:\n",
    "        self.super_category = super_category\n",
    "        self.categories = categories\n",
    "        self.increment_id = 0\n",
    "        pass\n",
    "\n",
    "    def create_annotation_format(self, contour, image_id, category_id):\n",
    "        return {\n",
    "            \"iscrowd\": 0,\n",
    "            \"id\": self.increment_id,\n",
    "            \"image_id\": image_id,\n",
    "            \"category_id\": category_id,\n",
    "            \"bbox\": cv2.boundingRect(contour),\n",
    "            \"area\": cv2.contourArea(contour),\n",
    "            \"segmentation\": [contour.flatten().tolist()],\n",
    "        }\n",
    "\n",
    "    def create_image_annotation(self, mask_image):\n",
    "        gray = cv2.cvtColor(mask_image, cv2.COLOR_BGR2GRAY)\n",
    "        _, thresh = cv2.threshold(\n",
    "            gray, 0, 255, cv2.THRESH_BINARY + cv2.THRESH_OTSU)\n",
    "        contours = cv2.findContours(\n",
    "            thresh, cv2.RETR_TREE, cv2.CHAIN_APPROX_SIMPLE)[0]\n",
    "        return contours\n",
    "\n",
    "    def create_image_annotation_info(self, image_id, path, file_name, width, height):\n",
    "        return {\n",
    "            \"file_name\": file_name,\n",
    "            \"height\": height,\n",
    "            \"id\": image_id,\n",
    "            \"path\": path,\n",
    "            \"width\": width,\n",
    "        }\n",
    "\n",
    "    def _runImageAnnotation(self, mask_path):\n",
    "        annotation_count = 0\n",
    "        image_id = 0\n",
    "        annotations = []\n",
    "        images = []\n",
    "\n",
    "        for subdir, dirs, files in os.walk(mask_path):\n",
    "            for file in files:\n",
    "                category = subdir.split('/')[-1]\n",
    "                category_id = self.categories[category]\n",
    "                image_path = os.path.join(subdir, file)\n",
    "                mask_image = cv2.imread(image_path)\n",
    "                height, width, _ = mask_image.shape\n",
    "\n",
    "                image = self.create_image_annotation_info(image_id,\n",
    "                                                          image_path, file, width, height)\n",
    "                images.append(image)\n",
    "                contours = self.create_image_annotation(\n",
    "                    mask_image)\n",
    "\n",
    "                for contour in contours:\n",
    "                    annotation = self.create_annotation_format(\n",
    "                        contour, image_id, category_id)\n",
    "                    annotations.append(annotation)\n",
    "                    self.increment_id += 1\n",
    "                    annotation_count += 1\n",
    "                image_id += 1\n",
    "        return images, annotations, annotation_count\n",
    "\n",
    "    def create_category_annotation(self):\n",
    "        category_list = []\n",
    "        for key, value in self.categories.items():\n",
    "            category = {\"id\": value, \"name\": key, \"supercategory\": self.super_category}\n",
    "            category_list.append(category)\n",
    "        return category_list\n",
    "\n",
    "    def create_coco_json_format(self):\n",
    "        return {\n",
    "            \"annotations\": [{}],\n",
    "            \"categories\": [{}],\n",
    "            \"images\": [{}],\n",
    "            \"info\": {},\n",
    "            \"licenses\": [],\n",
    "        }\n",
    "\n",
    "    def fromMaskImage(self, dir_list):\n",
    "        coco_format = self.create_coco_json_format()\n",
    "\n",
    "        for dir_name in dir_list:\n",
    "            mask_path = f\"dataset/{dir_name}/\"\n",
    "            # Create category info\n",
    "            coco_format['categories'] = self.create_category_annotation()\n",
    "            # Create images and annotation\n",
    "            coco_format['images'], coco_format['annotations'], annotation_count = self._runImageAnnotation(\n",
    "                mask_path)\n",
    "\n",
    "            with open(f\"output/{dir_name}.json\", \"w\") as outfile:\n",
    "                json.dump(coco_format, outfile, sort_keys=True, indent=2)\n",
    "\n",
    "            print(\n",
    "                f\"Created {annotation_count} annotations for images in folder: {mask_path}\")\n"
   ]
  },
  {
   "cell_type": "code",
   "execution_count": 12,
   "metadata": {},
   "outputs": [
    {
     "name": "stdout",
     "output_type": "stream",
     "text": [
      "Created 18 annotations for images in folder: dataset/train_mask/\n",
      "Created 18 annotations for images in folder: dataset/test_mask/\n",
      "Created 18 annotations for images in folder: dataset/validation_mask/\n"
     ]
    }
   ],
   "source": [
    "annotator = Annotator(categories={'normal': 0, 'covid': 1, 'non-covid': 2}, super_category='lung')\n",
    "res = annotator.fromMaskImage(['train_mask', 'test_mask', 'validation_mask'])"
   ]
  }
 ],
 "metadata": {
  "kernelspec": {
   "display_name": "Python 3",
   "language": "python",
   "name": "python3"
  },
  "language_info": {
   "codemirror_mode": {
    "name": "ipython",
    "version": 3
   },
   "file_extension": ".py",
   "mimetype": "text/x-python",
   "name": "python",
   "nbconvert_exporter": "python",
   "pygments_lexer": "ipython3",
   "version": "3.10.6 (main, Nov 14 2022, 16:10:14) [GCC 11.3.0]"
  },
  "orig_nbformat": 4,
  "vscode": {
   "interpreter": {
    "hash": "916dbcbb3f70747c44a77c7bcd40155683ae19c65e1c03b4aa3499c5328201f1"
   }
  }
 },
 "nbformat": 4,
 "nbformat_minor": 2
}
